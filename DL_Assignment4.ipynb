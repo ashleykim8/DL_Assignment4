{
  "nbformat": 4,
  "nbformat_minor": 0,
  "metadata": {
    "colab": {
      "provenance": []
    },
    "kernelspec": {
      "name": "python3",
      "display_name": "Python 3"
    },
    "language_info": {
      "name": "python"
    }
  },
  "cells": [
    {
      "cell_type": "code",
      "execution_count": 1,
      "metadata": {
        "colab": {
          "base_uri": "https://localhost:8080/"
        },
        "id": "uvjBLL2a4kYe",
        "outputId": "f8fbf3c0-f107-4d7a-db08-ce24f0c23791"
      },
      "outputs": [
        {
          "output_type": "stream",
          "name": "stdout",
          "text": [
            "Requirement already satisfied: ucimlrepo in /usr/local/lib/python3.11/dist-packages (0.0.7)\n",
            "Requirement already satisfied: pandas>=1.0.0 in /usr/local/lib/python3.11/dist-packages (from ucimlrepo) (2.2.2)\n",
            "Requirement already satisfied: certifi>=2020.12.5 in /usr/local/lib/python3.11/dist-packages (from ucimlrepo) (2025.1.31)\n",
            "Requirement already satisfied: numpy>=1.23.2 in /usr/local/lib/python3.11/dist-packages (from pandas>=1.0.0->ucimlrepo) (2.0.2)\n",
            "Requirement already satisfied: python-dateutil>=2.8.2 in /usr/local/lib/python3.11/dist-packages (from pandas>=1.0.0->ucimlrepo) (2.8.2)\n",
            "Requirement already satisfied: pytz>=2020.1 in /usr/local/lib/python3.11/dist-packages (from pandas>=1.0.0->ucimlrepo) (2025.2)\n",
            "Requirement already satisfied: tzdata>=2022.7 in /usr/local/lib/python3.11/dist-packages (from pandas>=1.0.0->ucimlrepo) (2025.2)\n",
            "Requirement already satisfied: six>=1.5 in /usr/local/lib/python3.11/dist-packages (from python-dateutil>=2.8.2->pandas>=1.0.0->ucimlrepo) (1.17.0)\n"
          ]
        }
      ],
      "source": [
        "# run if need to install\n",
        "!pip install ucimlrepo"
      ]
    },
    {
      "cell_type": "markdown",
      "source": [
        "# Dataset & Preprocessing:"
      ],
      "metadata": {
        "id": "ztx3MhOB6hpL"
      }
    },
    {
      "cell_type": "markdown",
      "source": [
        "Load in the UCI Covertype Dataset"
      ],
      "metadata": {
        "id": "YlnxMJI96la-"
      }
    },
    {
      "cell_type": "code",
      "source": [
        "from ucimlrepo import fetch_ucirepo\n",
        "\n",
        "# fetch dataset\n",
        "covertype = fetch_ucirepo(id=31)\n",
        "\n",
        "# data (as pandas dataframes)\n",
        "X = covertype.data.features\n",
        "y = covertype.data.targets\n",
        "\n",
        "# print basic info\n",
        "print(\"Feature DataFrame Shape:\", X.shape)\n",
        "print(\"Target DataFrame Shape:\", y.shape)\n",
        "print(\"Head of features:\")\n",
        "print(X.head())\n",
        "\n",
        "print(\"\\nHead of target:\")\n",
        "print(y.head())"
      ],
      "metadata": {
        "colab": {
          "base_uri": "https://localhost:8080/"
        },
        "id": "S03qMBJI6Hez",
        "outputId": "e950758f-f4ea-4ffb-81b7-e25420769f23"
      },
      "execution_count": 2,
      "outputs": [
        {
          "output_type": "stream",
          "name": "stdout",
          "text": [
            "Feature DataFrame Shape: (581012, 54)\n",
            "Target DataFrame Shape: (581012, 1)\n",
            "Head of features:\n",
            "   Elevation  Aspect  Slope  Horizontal_Distance_To_Hydrology  \\\n",
            "0       2596      51      3                               258   \n",
            "1       2590      56      2                               212   \n",
            "2       2804     139      9                               268   \n",
            "3       2785     155     18                               242   \n",
            "4       2595      45      2                               153   \n",
            "\n",
            "   Vertical_Distance_To_Hydrology  Horizontal_Distance_To_Roadways  \\\n",
            "0                               0                              510   \n",
            "1                              -6                              390   \n",
            "2                              65                             3180   \n",
            "3                             118                             3090   \n",
            "4                              -1                              391   \n",
            "\n",
            "   Hillshade_9am  Hillshade_Noon  Hillshade_3pm  \\\n",
            "0            221             232            148   \n",
            "1            220             235            151   \n",
            "2            234             238            135   \n",
            "3            238             238            122   \n",
            "4            220             234            150   \n",
            "\n",
            "   Horizontal_Distance_To_Fire_Points  ...  Soil_Type34  Soil_Type35  \\\n",
            "0                                6279  ...            0            0   \n",
            "1                                6225  ...            0            0   \n",
            "2                                6121  ...            0            0   \n",
            "3                                6211  ...            0            0   \n",
            "4                                6172  ...            0            0   \n",
            "\n",
            "   Soil_Type36  Soil_Type37  Soil_Type38  Soil_Type39  Soil_Type40  \\\n",
            "0            0            0            0            0            0   \n",
            "1            0            0            0            0            0   \n",
            "2            0            0            0            0            0   \n",
            "3            0            0            0            0            0   \n",
            "4            0            0            0            0            0   \n",
            "\n",
            "   Wilderness_Area2  Wilderness_Area3  Wilderness_Area4  \n",
            "0                 0                 0                 0  \n",
            "1                 0                 0                 0  \n",
            "2                 0                 0                 0  \n",
            "3                 0                 0                 0  \n",
            "4                 0                 0                 0  \n",
            "\n",
            "[5 rows x 54 columns]\n",
            "\n",
            "Head of target:\n",
            "   Cover_Type\n",
            "0           5\n",
            "1           5\n",
            "2           2\n",
            "3           2\n",
            "4           5\n"
          ]
        }
      ]
    },
    {
      "cell_type": "markdown",
      "source": [
        "We don't need to handle missing values because the dataset specifices that there are no missing values within the information, but we can check just to ensure."
      ],
      "metadata": {
        "id": "eiUoEZLvAoU9"
      }
    },
    {
      "cell_type": "code",
      "source": [
        "missing_values = X.isnull().sum().sum()\n",
        "print(\"Total missing values in feature:\", missing_values)\n",
        "\n",
        "missing_values_target = y.isnull().sum().sum()\n",
        "print(\"Total missing values in target:\", missing_values_target)"
      ],
      "metadata": {
        "colab": {
          "base_uri": "https://localhost:8080/"
        },
        "id": "WLWY1X2x9lu6",
        "outputId": "31b625dd-e65b-4e4d-da19-ab39ea89f3e8"
      },
      "execution_count": 3,
      "outputs": [
        {
          "output_type": "stream",
          "name": "stdout",
          "text": [
            "Total missing values in feature: 0\n",
            "Total missing values in target: 0\n"
          ]
        }
      ]
    },
    {
      "cell_type": "markdown",
      "source": [
        "We can see we have no missing values. Let's now normalize numerical features and shuffle our data (just in case) since cover_type, our target variable, is a categorical variable and we want representation of each cover_type in the training set. Let's also split the data into a training and validation set."
      ],
      "metadata": {
        "id": "xhBq09k9AzpK"
      }
    },
    {
      "cell_type": "code",
      "source": [
        "import numpy as np\n",
        "\n",
        "# create a shuffled index array\n",
        "indices = np.random.permutation(len(X))\n",
        "\n",
        "# len of X is 581012\n",
        "lenX = len(X)\n",
        "train_size = int(lenX*0.7)\n",
        "\n",
        "X_train, y_train  = X.iloc[indices[:train_size]], y.iloc[indices[:train_size]]\n",
        "X_val, y_val = X.iloc[indices[train_size:]], y.iloc[indices[train_size:]]\n",
        "\n",
        "# check sample sizes\n",
        "print(\"Number of samples in train: \", len(X_train)) # should return 406708\n",
        "print(\"Number of samples in val: \", len(X_val)) # should return 174304"
      ],
      "metadata": {
        "colab": {
          "base_uri": "https://localhost:8080/"
        },
        "id": "wDbXFcHPNkfv",
        "outputId": "55469776-16e2-4e69-fc09-3e09c309a377"
      },
      "execution_count": 4,
      "outputs": [
        {
          "output_type": "stream",
          "name": "stdout",
          "text": [
            "Number of samples in train:  406708\n",
            "Number of samples in val:  174304\n"
          ]
        }
      ]
    },
    {
      "cell_type": "markdown",
      "source": [
        "The numerical features are in Elevation, Aspect, Slope, Horizontal_Distance_To_Hydrology, Vertical_Distance_To_Hydrology, Horizontal_Distance_To_Roadways, Hillshade_9am, Hillshade_Noon, Hillshade_3pm, and Horizontal_Distance_To_Fire_Points. The rest of the variables in X, such as Wilderness_Area and Soil_Type, are binary so we don't need to normalize them."
      ],
      "metadata": {
        "id": "74lzY6sckrpF"
      }
    },
    {
      "cell_type": "code",
      "source": [
        "from sklearn.preprocessing import StandardScaler\n",
        "\n",
        "numerical_features = [\"Elevation\", \"Aspect\", \"Slope\", \"Horizontal_Distance_To_Hydrology\",\n",
        "                      \"Vertical_Distance_To_Hydrology\", \"Horizontal_Distance_To_Roadways\",\n",
        "                      \"Hillshade_9am\", \"Hillshade_Noon\", \"Hillshade_3pm\",\n",
        "                      \"Horizontal_Distance_To_Fire_Points\"]\n",
        "\n",
        "# standardize function\n",
        "scaler = StandardScaler()\n",
        "\n",
        "# fit only on training data on only numerical features\n",
        "X_train[numerical_features] = scaler.fit_transform(X_train[numerical_features])\n",
        "\n",
        "# transform validation data using the same scaler\n",
        "X_val[numerical_features] = scaler.transform(X_val[numerical_features])\n",
        "\n",
        "# check standardization\n",
        "print(X_train.head())\n",
        "print(X_val.head())"
      ],
      "metadata": {
        "colab": {
          "base_uri": "https://localhost:8080/"
        },
        "id": "4UG4AYiTkkQM",
        "outputId": "8c9ba7c9-4b1d-44f7-e94a-f29baafa6983"
      },
      "execution_count": 5,
      "outputs": [
        {
          "output_type": "stream",
          "name": "stderr",
          "text": [
            "<ipython-input-5-791d58d75aea>:12: SettingWithCopyWarning: \n",
            "A value is trying to be set on a copy of a slice from a DataFrame.\n",
            "Try using .loc[row_indexer,col_indexer] = value instead\n",
            "\n",
            "See the caveats in the documentation: https://pandas.pydata.org/pandas-docs/stable/user_guide/indexing.html#returning-a-view-versus-a-copy\n",
            "  X_train[numerical_features] = scaler.fit_transform(X_train[numerical_features])\n",
            "<ipython-input-5-791d58d75aea>:15: SettingWithCopyWarning: \n",
            "A value is trying to be set on a copy of a slice from a DataFrame.\n",
            "Try using .loc[row_indexer,col_indexer] = value instead\n",
            "\n",
            "See the caveats in the documentation: https://pandas.pydata.org/pandas-docs/stable/user_guide/indexing.html#returning-a-view-versus-a-copy\n",
            "  X_val[numerical_features] = scaler.transform(X_val[numerical_features])\n"
          ]
        },
        {
          "output_type": "stream",
          "name": "stdout",
          "text": [
            "        Elevation    Aspect     Slope  Horizontal_Distance_To_Hydrology  \\\n",
            "155860  -0.240702 -0.308953  0.520116                         -0.759581   \n",
            "323222  -0.725952 -0.791421 -0.948235                         -0.505524   \n",
            "252813   0.041172 -1.113066  0.386630                         -0.467886   \n",
            "360232  -0.287086 -1.354300  0.253143                          0.614208   \n",
            "486821  -0.122957  0.387946  1.588008                         -0.820743   \n",
            "\n",
            "        Vertical_Distance_To_Hydrology  Horizontal_Distance_To_Roadways  \\\n",
            "155860                       -0.470283                         0.634815   \n",
            "323222                       -0.607554                        -1.235363   \n",
            "252813                       -0.401647                        -1.299498   \n",
            "360232                       -0.075627                        -0.216899   \n",
            "486821                       -0.144262                        -0.433675   \n",
            "\n",
            "        Hillshade_9am  Hillshade_Noon  Hillshade_3pm  \\\n",
            "155860       1.338694       -0.015374      -1.215717   \n",
            "323222       0.591853        0.136374      -0.274666   \n",
            "252813       0.069065       -1.077605      -0.614490   \n",
            "360232      -0.565750       -0.824693       0.065157   \n",
            "486821      -0.453724        1.400934       0.744805   \n",
            "\n",
            "        Horizontal_Distance_To_Fire_Points  ...  Soil_Type34  Soil_Type35  \\\n",
            "155860                            0.631517  ...            0            0   \n",
            "323222                            0.512321  ...            0            0   \n",
            "252813                           -0.448793  ...            0            0   \n",
            "360232                           -0.349966  ...            0            0   \n",
            "486821                           -0.627587  ...            0            0   \n",
            "\n",
            "        Soil_Type36  Soil_Type37  Soil_Type38  Soil_Type39  Soil_Type40  \\\n",
            "155860            0            0            0            0            0   \n",
            "323222            0            0            0            0            0   \n",
            "252813            0            0            0            0            0   \n",
            "360232            0            0            0            0            0   \n",
            "486821            0            0            0            0            0   \n",
            "\n",
            "        Wilderness_Area2  Wilderness_Area3  Wilderness_Area4  \n",
            "155860                 0                 0                 0  \n",
            "323222                 0                 1                 0  \n",
            "252813                 0                 1                 0  \n",
            "360232                 0                 1                 0  \n",
            "486821                 0                 1                 0  \n",
            "\n",
            "[5 rows x 54 columns]\n",
            "        Elevation    Aspect     Slope  Horizontal_Distance_To_Hydrology  \\\n",
            "545526   0.765479  0.432619  0.253143                          3.277102   \n",
            "374602   0.640599 -0.192803 -0.013830                         -0.270287   \n",
            "236392  -3.077276  1.504771  1.187549                         -0.067982   \n",
            "158714   0.183893  0.781068 -0.814749                         -0.844267   \n",
            "480307   0.083988  0.745330 -0.414289                         -1.126553   \n",
            "\n",
            "        Vertical_Distance_To_Hydrology  Horizontal_Distance_To_Roadways  \\\n",
            "545526                       -2.426404                         1.190224   \n",
            "374602                       -1.293913                        -0.771025   \n",
            "236392                        0.662209                        -1.309118   \n",
            "158714                       -0.727667                         2.016283   \n",
            "480307                       -0.693349                        -0.191886   \n",
            "\n",
            "        Hillshade_9am  Hillshade_Noon  Hillshade_3pm  \\\n",
            "545526      -0.080304        1.502099       0.823226   \n",
            "374602       1.077300        0.490451      -0.640631   \n",
            "236392      -2.096773       -0.723528       1.215331   \n",
            "158714      -0.267014        1.198605       0.953928   \n",
            "480307      -0.453724        1.299769       1.136910   \n",
            "\n",
            "        Horizontal_Distance_To_Fire_Points  ...  Soil_Type34  Soil_Type35  \\\n",
            "545526                           -0.430687  ...            0            0   \n",
            "374602                           -0.704537  ...            0            0   \n",
            "236392                           -0.994983  ...            0            0   \n",
            "158714                            0.120784  ...            0            0   \n",
            "480307                           -1.121723  ...            0            0   \n",
            "\n",
            "        Soil_Type36  Soil_Type37  Soil_Type38  Soil_Type39  Soil_Type40  \\\n",
            "545526            0            0            0            0            0   \n",
            "374602            0            0            0            0            0   \n",
            "236392            0            0            0            0            0   \n",
            "158714            0            0            0            0            0   \n",
            "480307            0            0            0            0            0   \n",
            "\n",
            "        Wilderness_Area2  Wilderness_Area3  Wilderness_Area4  \n",
            "545526                 0                 1                 0  \n",
            "374602                 0                 0                 0  \n",
            "236392                 0                 0                 1  \n",
            "158714                 0                 0                 0  \n",
            "480307                 0                 1                 0  \n",
            "\n",
            "[5 rows x 54 columns]\n"
          ]
        }
      ]
    },
    {
      "cell_type": "markdown",
      "source": [
        "The last step of preprocessing the data is encoding categorical variables. Our categorical variables (Soil_Type and Wilderness_Area) are already binary. But we need to encode our target variable Cover_Type:"
      ],
      "metadata": {
        "id": "QEuOeStkniDB"
      }
    },
    {
      "cell_type": "code",
      "source": [
        "from tensorflow.keras.utils import to_categorical\n",
        "\n",
        "# convert Cover_Type range from 1-7 to 0-6\n",
        "y_train = y_train - 1\n",
        "y_val = y_val - 1\n",
        "\n",
        "# one-hot encode the cover_type\n",
        "y_train_encoded = to_categorical(y_train, num_classes=7)  # 7 classes for Cover_Type\n",
        "y_val_encoded = to_categorical(y_val, num_classes=7)\n"
      ],
      "metadata": {
        "id": "D2edy8fgqOfh"
      },
      "execution_count": 6,
      "outputs": []
    },
    {
      "cell_type": "markdown",
      "source": [
        "# Model Architecture:"
      ],
      "metadata": {
        "id": "WC_xf0ANv-uE"
      }
    },
    {
      "cell_type": "code",
      "source": [
        "import tensorflow as tf\n",
        "from tensorflow.keras import layers, models\n",
        "\n",
        "# x features should be number of input dims\n",
        "input_dim = X_train.shape[1]\n",
        "inputs = layers.Input(shape=(input_dim,))\n",
        "\n",
        "# first dense layer to process input\n",
        "x = layers.Dense(64, activation='relu')(inputs)\n",
        "x = layers.Dense(64, activation='relu')(x)\n",
        "\n",
        "# custom residual block with at least two Dense layers\n",
        "residual_input = x\n",
        "x = layers.Dense(32, activation='relu')(x)\n",
        "x = layers.Dense(32, activation='relu')(x)\n",
        "\n",
        "# linear projection bc dims differ\n",
        "lin_proj = layers.Dense(32)(residual_input)\n",
        "\n",
        "# Add residual connection\n",
        "x = layers.Add()([x, lin_proj])\n",
        "\n",
        "# skip connection\n",
        "skip_input = layers.Dense(32, activation='relu')(inputs)\n",
        "x = layers.Add()([x, skip_input])\n",
        "\n",
        "# last layers\n",
        "x = layers.Dense(64, activation='relu')(x)\n",
        "x = layers.Dense(32, activation='relu')(x)\n",
        "\n",
        "# output Layer (7 classes for target)\n",
        "output = layers.Dense(7, activation='softmax')(x)\n",
        "\n",
        "# create/compile model\n",
        "model = models.Model(inputs=inputs, outputs=output)\n",
        "model.compile(optimizer='adam', loss='categorical_crossentropy', metrics=['accuracy'])\n",
        "\n",
        "model.summary()\n",
        "model.save(\"my_model.h5\")"
      ],
      "metadata": {
        "colab": {
          "base_uri": "https://localhost:8080/",
          "height": 616
        },
        "id": "KbsNbFplyrxl",
        "outputId": "822e42a3-7951-42ff-847c-fb5c1637b615"
      },
      "execution_count": 7,
      "outputs": [
        {
          "output_type": "display_data",
          "data": {
            "text/plain": [
              "\u001b[1mModel: \"functional\"\u001b[0m\n"
            ],
            "text/html": [
              "<pre style=\"white-space:pre;overflow-x:auto;line-height:normal;font-family:Menlo,'DejaVu Sans Mono',consolas,'Courier New',monospace\"><span style=\"font-weight: bold\">Model: \"functional\"</span>\n",
              "</pre>\n"
            ]
          },
          "metadata": {}
        },
        {
          "output_type": "display_data",
          "data": {
            "text/plain": [
              "┏━━━━━━━━━━━━━━━━━━━━━━━━━━━┳━━━━━━━━━━━━━━━━━━━━━━━━┳━━━━━━━━━━━━━━━━┳━━━━━━━━━━━━━━━━━━━━━━━━┓\n",
              "┃\u001b[1m \u001b[0m\u001b[1mLayer (type)             \u001b[0m\u001b[1m \u001b[0m┃\u001b[1m \u001b[0m\u001b[1mOutput Shape          \u001b[0m\u001b[1m \u001b[0m┃\u001b[1m \u001b[0m\u001b[1m       Param #\u001b[0m\u001b[1m \u001b[0m┃\u001b[1m \u001b[0m\u001b[1mConnected to          \u001b[0m\u001b[1m \u001b[0m┃\n",
              "┡━━━━━━━━━━━━━━━━━━━━━━━━━━━╇━━━━━━━━━━━━━━━━━━━━━━━━╇━━━━━━━━━━━━━━━━╇━━━━━━━━━━━━━━━━━━━━━━━━┩\n",
              "│ input_layer (\u001b[38;5;33mInputLayer\u001b[0m)  │ (\u001b[38;5;45mNone\u001b[0m, \u001b[38;5;34m54\u001b[0m)             │              \u001b[38;5;34m0\u001b[0m │ -                      │\n",
              "├───────────────────────────┼────────────────────────┼────────────────┼────────────────────────┤\n",
              "│ dense (\u001b[38;5;33mDense\u001b[0m)             │ (\u001b[38;5;45mNone\u001b[0m, \u001b[38;5;34m64\u001b[0m)             │          \u001b[38;5;34m3,520\u001b[0m │ input_layer[\u001b[38;5;34m0\u001b[0m][\u001b[38;5;34m0\u001b[0m]      │\n",
              "├───────────────────────────┼────────────────────────┼────────────────┼────────────────────────┤\n",
              "│ dense_1 (\u001b[38;5;33mDense\u001b[0m)           │ (\u001b[38;5;45mNone\u001b[0m, \u001b[38;5;34m64\u001b[0m)             │          \u001b[38;5;34m4,160\u001b[0m │ dense[\u001b[38;5;34m0\u001b[0m][\u001b[38;5;34m0\u001b[0m]            │\n",
              "├───────────────────────────┼────────────────────────┼────────────────┼────────────────────────┤\n",
              "│ dense_2 (\u001b[38;5;33mDense\u001b[0m)           │ (\u001b[38;5;45mNone\u001b[0m, \u001b[38;5;34m32\u001b[0m)             │          \u001b[38;5;34m2,080\u001b[0m │ dense_1[\u001b[38;5;34m0\u001b[0m][\u001b[38;5;34m0\u001b[0m]          │\n",
              "├───────────────────────────┼────────────────────────┼────────────────┼────────────────────────┤\n",
              "│ dense_3 (\u001b[38;5;33mDense\u001b[0m)           │ (\u001b[38;5;45mNone\u001b[0m, \u001b[38;5;34m32\u001b[0m)             │          \u001b[38;5;34m1,056\u001b[0m │ dense_2[\u001b[38;5;34m0\u001b[0m][\u001b[38;5;34m0\u001b[0m]          │\n",
              "├───────────────────────────┼────────────────────────┼────────────────┼────────────────────────┤\n",
              "│ dense_4 (\u001b[38;5;33mDense\u001b[0m)           │ (\u001b[38;5;45mNone\u001b[0m, \u001b[38;5;34m32\u001b[0m)             │          \u001b[38;5;34m2,080\u001b[0m │ dense_1[\u001b[38;5;34m0\u001b[0m][\u001b[38;5;34m0\u001b[0m]          │\n",
              "├───────────────────────────┼────────────────────────┼────────────────┼────────────────────────┤\n",
              "│ add (\u001b[38;5;33mAdd\u001b[0m)                 │ (\u001b[38;5;45mNone\u001b[0m, \u001b[38;5;34m32\u001b[0m)             │              \u001b[38;5;34m0\u001b[0m │ dense_3[\u001b[38;5;34m0\u001b[0m][\u001b[38;5;34m0\u001b[0m],         │\n",
              "│                           │                        │                │ dense_4[\u001b[38;5;34m0\u001b[0m][\u001b[38;5;34m0\u001b[0m]          │\n",
              "├───────────────────────────┼────────────────────────┼────────────────┼────────────────────────┤\n",
              "│ dense_5 (\u001b[38;5;33mDense\u001b[0m)           │ (\u001b[38;5;45mNone\u001b[0m, \u001b[38;5;34m32\u001b[0m)             │          \u001b[38;5;34m1,760\u001b[0m │ input_layer[\u001b[38;5;34m0\u001b[0m][\u001b[38;5;34m0\u001b[0m]      │\n",
              "├───────────────────────────┼────────────────────────┼────────────────┼────────────────────────┤\n",
              "│ add_1 (\u001b[38;5;33mAdd\u001b[0m)               │ (\u001b[38;5;45mNone\u001b[0m, \u001b[38;5;34m32\u001b[0m)             │              \u001b[38;5;34m0\u001b[0m │ add[\u001b[38;5;34m0\u001b[0m][\u001b[38;5;34m0\u001b[0m],             │\n",
              "│                           │                        │                │ dense_5[\u001b[38;5;34m0\u001b[0m][\u001b[38;5;34m0\u001b[0m]          │\n",
              "├───────────────────────────┼────────────────────────┼────────────────┼────────────────────────┤\n",
              "│ dense_6 (\u001b[38;5;33mDense\u001b[0m)           │ (\u001b[38;5;45mNone\u001b[0m, \u001b[38;5;34m64\u001b[0m)             │          \u001b[38;5;34m2,112\u001b[0m │ add_1[\u001b[38;5;34m0\u001b[0m][\u001b[38;5;34m0\u001b[0m]            │\n",
              "├───────────────────────────┼────────────────────────┼────────────────┼────────────────────────┤\n",
              "│ dense_7 (\u001b[38;5;33mDense\u001b[0m)           │ (\u001b[38;5;45mNone\u001b[0m, \u001b[38;5;34m32\u001b[0m)             │          \u001b[38;5;34m2,080\u001b[0m │ dense_6[\u001b[38;5;34m0\u001b[0m][\u001b[38;5;34m0\u001b[0m]          │\n",
              "├───────────────────────────┼────────────────────────┼────────────────┼────────────────────────┤\n",
              "│ dense_8 (\u001b[38;5;33mDense\u001b[0m)           │ (\u001b[38;5;45mNone\u001b[0m, \u001b[38;5;34m7\u001b[0m)              │            \u001b[38;5;34m231\u001b[0m │ dense_7[\u001b[38;5;34m0\u001b[0m][\u001b[38;5;34m0\u001b[0m]          │\n",
              "└───────────────────────────┴────────────────────────┴────────────────┴────────────────────────┘\n"
            ],
            "text/html": [
              "<pre style=\"white-space:pre;overflow-x:auto;line-height:normal;font-family:Menlo,'DejaVu Sans Mono',consolas,'Courier New',monospace\">┏━━━━━━━━━━━━━━━━━━━━━━━━━━━┳━━━━━━━━━━━━━━━━━━━━━━━━┳━━━━━━━━━━━━━━━━┳━━━━━━━━━━━━━━━━━━━━━━━━┓\n",
              "┃<span style=\"font-weight: bold\"> Layer (type)              </span>┃<span style=\"font-weight: bold\"> Output Shape           </span>┃<span style=\"font-weight: bold\">        Param # </span>┃<span style=\"font-weight: bold\"> Connected to           </span>┃\n",
              "┡━━━━━━━━━━━━━━━━━━━━━━━━━━━╇━━━━━━━━━━━━━━━━━━━━━━━━╇━━━━━━━━━━━━━━━━╇━━━━━━━━━━━━━━━━━━━━━━━━┩\n",
              "│ input_layer (<span style=\"color: #0087ff; text-decoration-color: #0087ff\">InputLayer</span>)  │ (<span style=\"color: #00d7ff; text-decoration-color: #00d7ff\">None</span>, <span style=\"color: #00af00; text-decoration-color: #00af00\">54</span>)             │              <span style=\"color: #00af00; text-decoration-color: #00af00\">0</span> │ -                      │\n",
              "├───────────────────────────┼────────────────────────┼────────────────┼────────────────────────┤\n",
              "│ dense (<span style=\"color: #0087ff; text-decoration-color: #0087ff\">Dense</span>)             │ (<span style=\"color: #00d7ff; text-decoration-color: #00d7ff\">None</span>, <span style=\"color: #00af00; text-decoration-color: #00af00\">64</span>)             │          <span style=\"color: #00af00; text-decoration-color: #00af00\">3,520</span> │ input_layer[<span style=\"color: #00af00; text-decoration-color: #00af00\">0</span>][<span style=\"color: #00af00; text-decoration-color: #00af00\">0</span>]      │\n",
              "├───────────────────────────┼────────────────────────┼────────────────┼────────────────────────┤\n",
              "│ dense_1 (<span style=\"color: #0087ff; text-decoration-color: #0087ff\">Dense</span>)           │ (<span style=\"color: #00d7ff; text-decoration-color: #00d7ff\">None</span>, <span style=\"color: #00af00; text-decoration-color: #00af00\">64</span>)             │          <span style=\"color: #00af00; text-decoration-color: #00af00\">4,160</span> │ dense[<span style=\"color: #00af00; text-decoration-color: #00af00\">0</span>][<span style=\"color: #00af00; text-decoration-color: #00af00\">0</span>]            │\n",
              "├───────────────────────────┼────────────────────────┼────────────────┼────────────────────────┤\n",
              "│ dense_2 (<span style=\"color: #0087ff; text-decoration-color: #0087ff\">Dense</span>)           │ (<span style=\"color: #00d7ff; text-decoration-color: #00d7ff\">None</span>, <span style=\"color: #00af00; text-decoration-color: #00af00\">32</span>)             │          <span style=\"color: #00af00; text-decoration-color: #00af00\">2,080</span> │ dense_1[<span style=\"color: #00af00; text-decoration-color: #00af00\">0</span>][<span style=\"color: #00af00; text-decoration-color: #00af00\">0</span>]          │\n",
              "├───────────────────────────┼────────────────────────┼────────────────┼────────────────────────┤\n",
              "│ dense_3 (<span style=\"color: #0087ff; text-decoration-color: #0087ff\">Dense</span>)           │ (<span style=\"color: #00d7ff; text-decoration-color: #00d7ff\">None</span>, <span style=\"color: #00af00; text-decoration-color: #00af00\">32</span>)             │          <span style=\"color: #00af00; text-decoration-color: #00af00\">1,056</span> │ dense_2[<span style=\"color: #00af00; text-decoration-color: #00af00\">0</span>][<span style=\"color: #00af00; text-decoration-color: #00af00\">0</span>]          │\n",
              "├───────────────────────────┼────────────────────────┼────────────────┼────────────────────────┤\n",
              "│ dense_4 (<span style=\"color: #0087ff; text-decoration-color: #0087ff\">Dense</span>)           │ (<span style=\"color: #00d7ff; text-decoration-color: #00d7ff\">None</span>, <span style=\"color: #00af00; text-decoration-color: #00af00\">32</span>)             │          <span style=\"color: #00af00; text-decoration-color: #00af00\">2,080</span> │ dense_1[<span style=\"color: #00af00; text-decoration-color: #00af00\">0</span>][<span style=\"color: #00af00; text-decoration-color: #00af00\">0</span>]          │\n",
              "├───────────────────────────┼────────────────────────┼────────────────┼────────────────────────┤\n",
              "│ add (<span style=\"color: #0087ff; text-decoration-color: #0087ff\">Add</span>)                 │ (<span style=\"color: #00d7ff; text-decoration-color: #00d7ff\">None</span>, <span style=\"color: #00af00; text-decoration-color: #00af00\">32</span>)             │              <span style=\"color: #00af00; text-decoration-color: #00af00\">0</span> │ dense_3[<span style=\"color: #00af00; text-decoration-color: #00af00\">0</span>][<span style=\"color: #00af00; text-decoration-color: #00af00\">0</span>],         │\n",
              "│                           │                        │                │ dense_4[<span style=\"color: #00af00; text-decoration-color: #00af00\">0</span>][<span style=\"color: #00af00; text-decoration-color: #00af00\">0</span>]          │\n",
              "├───────────────────────────┼────────────────────────┼────────────────┼────────────────────────┤\n",
              "│ dense_5 (<span style=\"color: #0087ff; text-decoration-color: #0087ff\">Dense</span>)           │ (<span style=\"color: #00d7ff; text-decoration-color: #00d7ff\">None</span>, <span style=\"color: #00af00; text-decoration-color: #00af00\">32</span>)             │          <span style=\"color: #00af00; text-decoration-color: #00af00\">1,760</span> │ input_layer[<span style=\"color: #00af00; text-decoration-color: #00af00\">0</span>][<span style=\"color: #00af00; text-decoration-color: #00af00\">0</span>]      │\n",
              "├───────────────────────────┼────────────────────────┼────────────────┼────────────────────────┤\n",
              "│ add_1 (<span style=\"color: #0087ff; text-decoration-color: #0087ff\">Add</span>)               │ (<span style=\"color: #00d7ff; text-decoration-color: #00d7ff\">None</span>, <span style=\"color: #00af00; text-decoration-color: #00af00\">32</span>)             │              <span style=\"color: #00af00; text-decoration-color: #00af00\">0</span> │ add[<span style=\"color: #00af00; text-decoration-color: #00af00\">0</span>][<span style=\"color: #00af00; text-decoration-color: #00af00\">0</span>],             │\n",
              "│                           │                        │                │ dense_5[<span style=\"color: #00af00; text-decoration-color: #00af00\">0</span>][<span style=\"color: #00af00; text-decoration-color: #00af00\">0</span>]          │\n",
              "├───────────────────────────┼────────────────────────┼────────────────┼────────────────────────┤\n",
              "│ dense_6 (<span style=\"color: #0087ff; text-decoration-color: #0087ff\">Dense</span>)           │ (<span style=\"color: #00d7ff; text-decoration-color: #00d7ff\">None</span>, <span style=\"color: #00af00; text-decoration-color: #00af00\">64</span>)             │          <span style=\"color: #00af00; text-decoration-color: #00af00\">2,112</span> │ add_1[<span style=\"color: #00af00; text-decoration-color: #00af00\">0</span>][<span style=\"color: #00af00; text-decoration-color: #00af00\">0</span>]            │\n",
              "├───────────────────────────┼────────────────────────┼────────────────┼────────────────────────┤\n",
              "│ dense_7 (<span style=\"color: #0087ff; text-decoration-color: #0087ff\">Dense</span>)           │ (<span style=\"color: #00d7ff; text-decoration-color: #00d7ff\">None</span>, <span style=\"color: #00af00; text-decoration-color: #00af00\">32</span>)             │          <span style=\"color: #00af00; text-decoration-color: #00af00\">2,080</span> │ dense_6[<span style=\"color: #00af00; text-decoration-color: #00af00\">0</span>][<span style=\"color: #00af00; text-decoration-color: #00af00\">0</span>]          │\n",
              "├───────────────────────────┼────────────────────────┼────────────────┼────────────────────────┤\n",
              "│ dense_8 (<span style=\"color: #0087ff; text-decoration-color: #0087ff\">Dense</span>)           │ (<span style=\"color: #00d7ff; text-decoration-color: #00d7ff\">None</span>, <span style=\"color: #00af00; text-decoration-color: #00af00\">7</span>)              │            <span style=\"color: #00af00; text-decoration-color: #00af00\">231</span> │ dense_7[<span style=\"color: #00af00; text-decoration-color: #00af00\">0</span>][<span style=\"color: #00af00; text-decoration-color: #00af00\">0</span>]          │\n",
              "└───────────────────────────┴────────────────────────┴────────────────┴────────────────────────┘\n",
              "</pre>\n"
            ]
          },
          "metadata": {}
        },
        {
          "output_type": "display_data",
          "data": {
            "text/plain": [
              "\u001b[1m Total params: \u001b[0m\u001b[38;5;34m19,079\u001b[0m (74.53 KB)\n"
            ],
            "text/html": [
              "<pre style=\"white-space:pre;overflow-x:auto;line-height:normal;font-family:Menlo,'DejaVu Sans Mono',consolas,'Courier New',monospace\"><span style=\"font-weight: bold\"> Total params: </span><span style=\"color: #00af00; text-decoration-color: #00af00\">19,079</span> (74.53 KB)\n",
              "</pre>\n"
            ]
          },
          "metadata": {}
        },
        {
          "output_type": "display_data",
          "data": {
            "text/plain": [
              "\u001b[1m Trainable params: \u001b[0m\u001b[38;5;34m19,079\u001b[0m (74.53 KB)\n"
            ],
            "text/html": [
              "<pre style=\"white-space:pre;overflow-x:auto;line-height:normal;font-family:Menlo,'DejaVu Sans Mono',consolas,'Courier New',monospace\"><span style=\"font-weight: bold\"> Trainable params: </span><span style=\"color: #00af00; text-decoration-color: #00af00\">19,079</span> (74.53 KB)\n",
              "</pre>\n"
            ]
          },
          "metadata": {}
        },
        {
          "output_type": "display_data",
          "data": {
            "text/plain": [
              "\u001b[1m Non-trainable params: \u001b[0m\u001b[38;5;34m0\u001b[0m (0.00 B)\n"
            ],
            "text/html": [
              "<pre style=\"white-space:pre;overflow-x:auto;line-height:normal;font-family:Menlo,'DejaVu Sans Mono',consolas,'Courier New',monospace\"><span style=\"font-weight: bold\"> Non-trainable params: </span><span style=\"color: #00af00; text-decoration-color: #00af00\">0</span> (0.00 B)\n",
              "</pre>\n"
            ]
          },
          "metadata": {}
        },
        {
          "output_type": "stream",
          "name": "stderr",
          "text": [
            "WARNING:absl:You are saving your model as an HDF5 file via `model.save()` or `keras.saving.save_model(model)`. This file format is considered legacy. We recommend using instead the native Keras format, e.g. `model.save('my_model.keras')` or `keras.saving.save_model(model, 'my_model.keras')`. \n"
          ]
        }
      ]
    },
    {
      "cell_type": "markdown",
      "source": [
        "# Training and Evaluation"
      ],
      "metadata": {
        "id": "ps4HrtIkHmxI"
      }
    },
    {
      "cell_type": "code",
      "source": [
        "# select a single batch of 128\n",
        "X_batch = X_train[:128]\n",
        "y_batch = y_train_encoded[:128]\n",
        "\n",
        "# overfit on just this batch\n",
        "history = model.fit(\n",
        "    X_batch, y_batch,\n",
        "    batch_size=128,\n",
        "    epochs=40,  # or until overfit\n",
        "    verbose=1\n",
        ")"
      ],
      "metadata": {
        "colab": {
          "base_uri": "https://localhost:8080/"
        },
        "id": "KcbdV0rZKinu",
        "outputId": "df7b0438-27e9-4e90-e7da-1a0acb0f0c33"
      },
      "execution_count": 12,
      "outputs": [
        {
          "output_type": "stream",
          "name": "stdout",
          "text": [
            "Epoch 1/40\n",
            "\u001b[1m1/1\u001b[0m \u001b[32m━━━━━━━━━━━━━━━━━━━━\u001b[0m\u001b[37m\u001b[0m \u001b[1m5s\u001b[0m 5s/step - accuracy: 1.0000 - loss: 0.0096 - val_accuracy: 0.6268 - val_loss: 2.1406\n",
            "Epoch 2/40\n",
            "\u001b[1m1/1\u001b[0m \u001b[32m━━━━━━━━━━━━━━━━━━━━\u001b[0m\u001b[37m\u001b[0m \u001b[1m10s\u001b[0m 10s/step - accuracy: 1.0000 - loss: 0.0092 - val_accuracy: 0.6265 - val_loss: 2.1540\n",
            "Epoch 3/40\n",
            "\u001b[1m1/1\u001b[0m \u001b[32m━━━━━━━━━━━━━━━━━━━━\u001b[0m\u001b[37m\u001b[0m \u001b[1m5s\u001b[0m 5s/step - accuracy: 1.0000 - loss: 0.0088 - val_accuracy: 0.6263 - val_loss: 2.1666\n",
            "Epoch 4/40\n",
            "\u001b[1m1/1\u001b[0m \u001b[32m━━━━━━━━━━━━━━━━━━━━\u001b[0m\u001b[37m\u001b[0m \u001b[1m5s\u001b[0m 5s/step - accuracy: 1.0000 - loss: 0.0084 - val_accuracy: 0.6263 - val_loss: 2.1788\n",
            "Epoch 5/40\n",
            "\u001b[1m1/1\u001b[0m \u001b[32m━━━━━━━━━━━━━━━━━━━━\u001b[0m\u001b[37m\u001b[0m \u001b[1m10s\u001b[0m 10s/step - accuracy: 1.0000 - loss: 0.0080 - val_accuracy: 0.6263 - val_loss: 2.1904\n",
            "Epoch 6/40\n",
            "\u001b[1m1/1\u001b[0m \u001b[32m━━━━━━━━━━━━━━━━━━━━\u001b[0m\u001b[37m\u001b[0m \u001b[1m10s\u001b[0m 10s/step - accuracy: 1.0000 - loss: 0.0077 - val_accuracy: 0.6263 - val_loss: 2.2020\n",
            "Epoch 7/40\n",
            "\u001b[1m1/1\u001b[0m \u001b[32m━━━━━━━━━━━━━━━━━━━━\u001b[0m\u001b[37m\u001b[0m \u001b[1m8s\u001b[0m 8s/step - accuracy: 1.0000 - loss: 0.0073 - val_accuracy: 0.6262 - val_loss: 2.2138\n",
            "Epoch 8/40\n",
            "\u001b[1m1/1\u001b[0m \u001b[32m━━━━━━━━━━━━━━━━━━━━\u001b[0m\u001b[37m\u001b[0m \u001b[1m5s\u001b[0m 5s/step - accuracy: 1.0000 - loss: 0.0070 - val_accuracy: 0.6261 - val_loss: 2.2256\n",
            "Epoch 9/40\n",
            "\u001b[1m1/1\u001b[0m \u001b[32m━━━━━━━━━━━━━━━━━━━━\u001b[0m\u001b[37m\u001b[0m \u001b[1m5s\u001b[0m 5s/step - accuracy: 1.0000 - loss: 0.0067 - val_accuracy: 0.6259 - val_loss: 2.2372\n",
            "Epoch 10/40\n",
            "\u001b[1m1/1\u001b[0m \u001b[32m━━━━━━━━━━━━━━━━━━━━\u001b[0m\u001b[37m\u001b[0m \u001b[1m8s\u001b[0m 8s/step - accuracy: 1.0000 - loss: 0.0064 - val_accuracy: 0.6258 - val_loss: 2.2482\n",
            "Epoch 11/40\n",
            "\u001b[1m1/1\u001b[0m \u001b[32m━━━━━━━━━━━━━━━━━━━━\u001b[0m\u001b[37m\u001b[0m \u001b[1m4s\u001b[0m 4s/step - accuracy: 1.0000 - loss: 0.0062 - val_accuracy: 0.6256 - val_loss: 2.2588\n",
            "Epoch 12/40\n",
            "\u001b[1m1/1\u001b[0m \u001b[32m━━━━━━━━━━━━━━━━━━━━\u001b[0m\u001b[37m\u001b[0m \u001b[1m7s\u001b[0m 7s/step - accuracy: 1.0000 - loss: 0.0059 - val_accuracy: 0.6256 - val_loss: 2.2688\n",
            "Epoch 13/40\n",
            "\u001b[1m1/1\u001b[0m \u001b[32m━━━━━━━━━━━━━━━━━━━━\u001b[0m\u001b[37m\u001b[0m \u001b[1m10s\u001b[0m 10s/step - accuracy: 1.0000 - loss: 0.0057 - val_accuracy: 0.6256 - val_loss: 2.2782\n",
            "Epoch 14/40\n",
            "\u001b[1m1/1\u001b[0m \u001b[32m━━━━━━━━━━━━━━━━━━━━\u001b[0m\u001b[37m\u001b[0m \u001b[1m9s\u001b[0m 9s/step - accuracy: 1.0000 - loss: 0.0054 - val_accuracy: 0.6255 - val_loss: 2.2872\n",
            "Epoch 15/40\n",
            "\u001b[1m1/1\u001b[0m \u001b[32m━━━━━━━━━━━━━━━━━━━━\u001b[0m\u001b[37m\u001b[0m \u001b[1m3s\u001b[0m 3s/step - accuracy: 1.0000 - loss: 0.0052 - val_accuracy: 0.6256 - val_loss: 2.2963\n",
            "Epoch 16/40\n",
            "\u001b[1m1/1\u001b[0m \u001b[32m━━━━━━━━━━━━━━━━━━━━\u001b[0m\u001b[37m\u001b[0m \u001b[1m3s\u001b[0m 3s/step - accuracy: 1.0000 - loss: 0.0050 - val_accuracy: 0.6256 - val_loss: 2.3056\n",
            "Epoch 17/40\n",
            "\u001b[1m1/1\u001b[0m \u001b[32m━━━━━━━━━━━━━━━━━━━━\u001b[0m\u001b[37m\u001b[0m \u001b[1m3s\u001b[0m 3s/step - accuracy: 1.0000 - loss: 0.0048 - val_accuracy: 0.6255 - val_loss: 2.3150\n",
            "Epoch 18/40\n",
            "\u001b[1m1/1\u001b[0m \u001b[32m━━━━━━━━━━━━━━━━━━━━\u001b[0m\u001b[37m\u001b[0m \u001b[1m5s\u001b[0m 5s/step - accuracy: 1.0000 - loss: 0.0046 - val_accuracy: 0.6254 - val_loss: 2.3244\n",
            "Epoch 19/40\n",
            "\u001b[1m1/1\u001b[0m \u001b[32m━━━━━━━━━━━━━━━━━━━━\u001b[0m\u001b[37m\u001b[0m \u001b[1m5s\u001b[0m 5s/step - accuracy: 1.0000 - loss: 0.0045 - val_accuracy: 0.6252 - val_loss: 2.3336\n",
            "Epoch 20/40\n",
            "\u001b[1m1/1\u001b[0m \u001b[32m━━━━━━━━━━━━━━━━━━━━\u001b[0m\u001b[37m\u001b[0m \u001b[1m10s\u001b[0m 10s/step - accuracy: 1.0000 - loss: 0.0043 - val_accuracy: 0.6252 - val_loss: 2.3427\n",
            "Epoch 21/40\n",
            "\u001b[1m1/1\u001b[0m \u001b[32m━━━━━━━━━━━━━━━━━━━━\u001b[0m\u001b[37m\u001b[0m \u001b[1m5s\u001b[0m 5s/step - accuracy: 1.0000 - loss: 0.0042 - val_accuracy: 0.6250 - val_loss: 2.3514\n",
            "Epoch 22/40\n",
            "\u001b[1m1/1\u001b[0m \u001b[32m━━━━━━━━━━━━━━━━━━━━\u001b[0m\u001b[37m\u001b[0m \u001b[1m10s\u001b[0m 10s/step - accuracy: 1.0000 - loss: 0.0040 - val_accuracy: 0.6249 - val_loss: 2.3598\n",
            "Epoch 23/40\n",
            "\u001b[1m1/1\u001b[0m \u001b[32m━━━━━━━━━━━━━━━━━━━━\u001b[0m\u001b[37m\u001b[0m \u001b[1m9s\u001b[0m 9s/step - accuracy: 1.0000 - loss: 0.0039 - val_accuracy: 0.6249 - val_loss: 2.3679\n",
            "Epoch 24/40\n",
            "\u001b[1m1/1\u001b[0m \u001b[32m━━━━━━━━━━━━━━━━━━━━\u001b[0m\u001b[37m\u001b[0m \u001b[1m6s\u001b[0m 6s/step - accuracy: 1.0000 - loss: 0.0038 - val_accuracy: 0.6248 - val_loss: 2.3757\n",
            "Epoch 25/40\n",
            "\u001b[1m1/1\u001b[0m \u001b[32m━━━━━━━━━━━━━━━━━━━━\u001b[0m\u001b[37m\u001b[0m \u001b[1m4s\u001b[0m 4s/step - accuracy: 1.0000 - loss: 0.0037 - val_accuracy: 0.6248 - val_loss: 2.3832\n",
            "Epoch 26/40\n",
            "\u001b[1m1/1\u001b[0m \u001b[32m━━━━━━━━━━━━━━━━━━━━\u001b[0m\u001b[37m\u001b[0m \u001b[1m6s\u001b[0m 6s/step - accuracy: 1.0000 - loss: 0.0035 - val_accuracy: 0.6248 - val_loss: 2.3906\n",
            "Epoch 27/40\n",
            "\u001b[1m1/1\u001b[0m \u001b[32m━━━━━━━━━━━━━━━━━━━━\u001b[0m\u001b[37m\u001b[0m \u001b[1m9s\u001b[0m 9s/step - accuracy: 1.0000 - loss: 0.0034 - val_accuracy: 0.6248 - val_loss: 2.3980\n",
            "Epoch 28/40\n",
            "\u001b[1m1/1\u001b[0m \u001b[32m━━━━━━━━━━━━━━━━━━━━\u001b[0m\u001b[37m\u001b[0m \u001b[1m5s\u001b[0m 5s/step - accuracy: 1.0000 - loss: 0.0033 - val_accuracy: 0.6247 - val_loss: 2.4057\n",
            "Epoch 29/40\n",
            "\u001b[1m1/1\u001b[0m \u001b[32m━━━━━━━━━━━━━━━━━━━━\u001b[0m\u001b[37m\u001b[0m \u001b[1m10s\u001b[0m 10s/step - accuracy: 1.0000 - loss: 0.0032 - val_accuracy: 0.6246 - val_loss: 2.4133\n",
            "Epoch 30/40\n",
            "\u001b[1m1/1\u001b[0m \u001b[32m━━━━━━━━━━━━━━━━━━━━\u001b[0m\u001b[37m\u001b[0m \u001b[1m5s\u001b[0m 5s/step - accuracy: 1.0000 - loss: 0.0032 - val_accuracy: 0.6245 - val_loss: 2.4208\n",
            "Epoch 31/40\n",
            "\u001b[1m1/1\u001b[0m \u001b[32m━━━━━━━━━━━━━━━━━━━━\u001b[0m\u001b[37m\u001b[0m \u001b[1m10s\u001b[0m 10s/step - accuracy: 1.0000 - loss: 0.0031 - val_accuracy: 0.6244 - val_loss: 2.4280\n",
            "Epoch 32/40\n",
            "\u001b[1m1/1\u001b[0m \u001b[32m━━━━━━━━━━━━━━━━━━━━\u001b[0m\u001b[37m\u001b[0m \u001b[1m5s\u001b[0m 5s/step - accuracy: 1.0000 - loss: 0.0030 - val_accuracy: 0.6243 - val_loss: 2.4351\n",
            "Epoch 33/40\n",
            "\u001b[1m1/1\u001b[0m \u001b[32m━━━━━━━━━━━━━━━━━━━━\u001b[0m\u001b[37m\u001b[0m \u001b[1m5s\u001b[0m 5s/step - accuracy: 1.0000 - loss: 0.0029 - val_accuracy: 0.6243 - val_loss: 2.4418\n",
            "Epoch 34/40\n",
            "\u001b[1m1/1\u001b[0m \u001b[32m━━━━━━━━━━━━━━━━━━━━\u001b[0m\u001b[37m\u001b[0m \u001b[1m5s\u001b[0m 5s/step - accuracy: 1.0000 - loss: 0.0028 - val_accuracy: 0.6242 - val_loss: 2.4486\n",
            "Epoch 35/40\n",
            "\u001b[1m1/1\u001b[0m \u001b[32m━━━━━━━━━━━━━━━━━━━━\u001b[0m\u001b[37m\u001b[0m \u001b[1m10s\u001b[0m 10s/step - accuracy: 1.0000 - loss: 0.0028 - val_accuracy: 0.6243 - val_loss: 2.4553\n",
            "Epoch 36/40\n",
            "\u001b[1m1/1\u001b[0m \u001b[32m━━━━━━━━━━━━━━━━━━━━\u001b[0m\u001b[37m\u001b[0m \u001b[1m5s\u001b[0m 5s/step - accuracy: 1.0000 - loss: 0.0027 - val_accuracy: 0.6242 - val_loss: 2.4621\n",
            "Epoch 37/40\n",
            "\u001b[1m1/1\u001b[0m \u001b[32m━━━━━━━━━━━━━━━━━━━━\u001b[0m\u001b[37m\u001b[0m \u001b[1m8s\u001b[0m 8s/step - accuracy: 1.0000 - loss: 0.0026 - val_accuracy: 0.6243 - val_loss: 2.4686\n",
            "Epoch 38/40\n",
            "\u001b[1m1/1\u001b[0m \u001b[32m━━━━━━━━━━━━━━━━━━━━\u001b[0m\u001b[37m\u001b[0m \u001b[1m5s\u001b[0m 5s/step - accuracy: 1.0000 - loss: 0.0026 - val_accuracy: 0.6243 - val_loss: 2.4748\n",
            "Epoch 39/40\n",
            "\u001b[1m1/1\u001b[0m \u001b[32m━━━━━━━━━━━━━━━━━━━━\u001b[0m\u001b[37m\u001b[0m \u001b[1m5s\u001b[0m 5s/step - accuracy: 1.0000 - loss: 0.0025 - val_accuracy: 0.6243 - val_loss: 2.4809\n",
            "Epoch 40/40\n",
            "\u001b[1m1/1\u001b[0m \u001b[32m━━━━━━━━━━━━━━━━━━━━\u001b[0m\u001b[37m\u001b[0m \u001b[1m5s\u001b[0m 5s/step - accuracy: 1.0000 - loss: 0.0025 - val_accuracy: 0.6243 - val_loss: 2.4870\n"
          ]
        }
      ]
    },
    {
      "cell_type": "code",
      "source": [
        "# evaluate on validation set\n",
        "val_eval = model.evaluate(X_val, y_val_encoded)\n",
        "\n",
        "# final conclusions\n",
        "print(val_eval)"
      ],
      "metadata": {
        "colab": {
          "base_uri": "https://localhost:8080/"
        },
        "id": "FiggVf_2PnH5",
        "outputId": "aebf7537-0306-45b9-9bd9-ad2561d662d9"
      },
      "execution_count": 14,
      "outputs": [
        {
          "output_type": "stream",
          "name": "stdout",
          "text": [
            "\u001b[1m5447/5447\u001b[0m \u001b[32m━━━━━━━━━━━━━━━━━━━━\u001b[0m\u001b[37m\u001b[0m \u001b[1m19s\u001b[0m 4ms/step - accuracy: 0.6257 - loss: 2.4897\n",
            "[2.4870052337646484, 0.6243287324905396]\n"
          ]
        }
      ]
    },
    {
      "cell_type": "markdown",
      "source": [
        "we can see this model performs poorly with an accuracy of 0.6257 and a loss of 2.4897 showing a lack of generalization."
      ],
      "metadata": {
        "id": "IyAnCGSfSazi"
      }
    },
    {
      "cell_type": "code",
      "source": [
        "# eval on training batch (should be close to 0)\n",
        "train_loss, train_acc = model.evaluate(X_batch, y_batch, verbose=0)\n",
        "\n",
        "# eval on full validation set (should be high)\n",
        "val_loss, val_acc = model.evaluate(X_val, y_val_encoded, verbose=0)\n",
        "\n",
        "print(\"====== Overfitting Experiment Results ======\")\n",
        "print(f\"Number of parameters: {model.count_params()}\")\n",
        "print(f\"Final training loss: {train_loss:.4f}\") # close enough to 0\n",
        "print(f\"Final validation loss: {val_loss:.4f}\")"
      ],
      "metadata": {
        "colab": {
          "base_uri": "https://localhost:8080/"
        },
        "id": "Fy7AwGMtQixX",
        "outputId": "260f0fcd-930e-48cc-e3f0-e322ad1c4c20"
      },
      "execution_count": 15,
      "outputs": [
        {
          "output_type": "stream",
          "name": "stdout",
          "text": [
            "====== Overfitting Experiment Results ======\n",
            "Number of parameters: 19079\n",
            "Final training loss: 0.0024\n",
            "Final validation loss: 2.4870\n"
          ]
        }
      ]
    }
  ]
}